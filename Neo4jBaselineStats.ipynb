{
 "cells": [
  {
   "cell_type": "code",
   "execution_count": 1,
   "metadata": {},
   "outputs": [
    {
     "name": "stdout",
     "output_type": "stream",
     "text": [
      "env: NEO4J_USER=jinshu\n",
      "env: NEO4J_PASS=corgirules\n",
      "env: NEO4J_URI=bolt://ec2-34-213-45-109.us-west-2.compute.amazonaws.com:7687\n",
      "env: X_API_KEY=z6zgcT3dSg3zWYgVAMrL54hgcVHiydPO2iCzSM05\n"
     ]
    }
   ],
   "source": [
    "%env NEO4J_USER=jinshu\n",
    "%env NEO4J_PASS=corgirules\n",
    "%env NEO4J_URI=bolt://ec2-34-213-45-109.us-west-2.compute.amazonaws.com:7687\n",
    "%env X_API_KEY=z6zgcT3dSg3zWYgVAMrL54hgcVHiydPO2iCzSM05"
   ]
  },
  {
   "cell_type": "code",
   "execution_count": 16,
   "metadata": {
    "collapsed": true
   },
   "outputs": [],
   "source": [
    "%matplotlib inline\n",
    "import matplotlib.pyplot as plt\n",
    "import os\n",
    "import sys\n",
    "module_path = os.path.abspath(\"/Users/Sam/Documents/work/PythonCode\")\n",
    "if module_path not in sys.path:\n",
    "    sys.path.append(module_path)\n",
    "import socialgraph\n",
    "import pandas\n",
    "from ipywidgets import interact, interactive, fixed, interact_manual\n",
    "import ipywidgets as widgets\n",
    "from IPython.display import display"
   ]
  },
  {
   "cell_type": "code",
   "execution_count": 12,
   "metadata": {},
   "outputs": [
    {
     "data": {
      "text/plain": [
       "['',\n",
       " '/Users/Sam/anaconda/lib/python36.zip',\n",
       " '/Users/Sam/anaconda/lib/python3.6',\n",
       " '/Users/Sam/anaconda/lib/python3.6/lib-dynload',\n",
       " '/Users/Sam/.local/lib/python3.6/site-packages',\n",
       " '/Users/Sam/anaconda/lib/python3.6/site-packages',\n",
       " '/Users/Sam/anaconda/lib/python3.6/site-packages/Sphinx-1.5.1-py3.6.egg',\n",
       " '/Users/Sam/anaconda/lib/python3.6/site-packages/aeosa',\n",
       " '/Users/Sam/anaconda/lib/python3.6/site-packages/IPython/extensions',\n",
       " '/Users/Sam/.ipython',\n",
       " '/Users/Sam/Documents/work/PythonCode']"
      ]
     },
     "execution_count": 12,
     "metadata": {},
     "output_type": "execute_result"
    }
   ],
   "source": [
    "import sys\n",
    "import plotly.plotly as py\n",
    "import plotly.graph_objs as go\n",
    "sys.executable\n",
    "sys.path"
   ]
  },
  {
   "cell_type": "code",
   "execution_count": 4,
   "metadata": {},
   "outputs": [
    {
     "data": {
      "text/plain": [
       "'bolt://ec2-34-213-45-109.us-west-2.compute.amazonaws.com:7687'"
      ]
     },
     "execution_count": 4,
     "metadata": {},
     "output_type": "execute_result"
    }
   ],
   "source": [
    "socialgraph.NEO4J_URI"
   ]
  },
  {
   "cell_type": "code",
   "execution_count": 6,
   "metadata": {
    "collapsed": true
   },
   "outputs": [],
   "source": [
    "neo4j = socialgraph.NEO4J_DRIVER.session()"
   ]
  },
  {
   "cell_type": "code",
   "execution_count": 7,
   "metadata": {},
   "outputs": [],
   "source": [
    "result = neo4j.run(\"\"\"\n",
    "    MATCH (p:Post)\n",
    "    RETURN p.happy, p.sad, p.disgust, p.fear, p.anger, p.network\n",
    "\"\"\")\n",
    "emo = pandas.DataFrame([dict(record) for record in result])"
   ]
  },
  {
   "cell_type": "code",
   "execution_count": 8,
   "metadata": {
    "collapsed": true
   },
   "outputs": [],
   "source": [
    "result = neo4j.run(\"\"\"\n",
    "    MATCH (p:Channel)\n",
    "    RETURN p.Honesty,p.Extraversion,p.Emotionality,p.Agreeableness,p.Conscientiousness,p.Openness, p.network\n",
    "\"\"\")\n",
    "pers = pandas.DataFrame([dict(record) for record in result])"
   ]
  },
  {
   "cell_type": "code",
   "execution_count": 35,
   "metadata": {},
   "outputs": [],
   "source": [
    "def personalityhist(network,dimension):\n",
    "    return(py.iplot([go.Histogram(x=pers.loc[pers['p.network'] == network][dimension])], filename='basic histogram'))"
   ]
  },
  {
   "cell_type": "code",
   "execution_count": 40,
   "metadata": {
    "collapsed": true
   },
   "outputs": [],
   "source": [
    "def emotionalityhist(network,emotion):\n",
    "    return(py.iplot([go.Histogram(x=emo.loc[emo['p.network'] == network][emotion])], filename='basic histogram'))"
   ]
  },
  {
   "cell_type": "code",
   "execution_count": 36,
   "metadata": {},
   "outputs": [
    {
     "data": {
      "text/html": [
       "<iframe id=\"igraph\" scrolling=\"no\" style=\"border:none;\" seamless=\"seamless\" src=\"https://plot.ly/~samuellessing/38.embed\" height=\"525px\" width=\"100%\"></iframe>"
      ],
      "text/plain": [
       "<plotly.tools.PlotlyDisplay object>"
      ]
     },
     "metadata": {},
     "output_type": "display_data"
    }
   ],
   "source": [
    "y=interactive(personalityhist,network=['facebook','twitter','youtube'],dimension= ['p.Agreeableness','p.Conscientiousness','p.Emotionality','p.Extraversion','p.Honesty','p.Openness'])\n",
    "display(y)"
   ]
  },
  {
   "cell_type": "code",
   "execution_count": 44,
   "metadata": {},
   "outputs": [
    {
     "data": {
      "text/html": [
       "<iframe id=\"igraph\" scrolling=\"no\" style=\"border:none;\" seamless=\"seamless\" src=\"https://plot.ly/~samuellessing/38.embed\" height=\"525px\" width=\"100%\"></iframe>"
      ],
      "text/plain": [
       "<plotly.tools.PlotlyDisplay object>"
      ]
     },
     "metadata": {},
     "output_type": "display_data"
    }
   ],
   "source": [
    "y=interactive(emotionalityhist,network=['facebook','twitter','youtube'],emotion= ['p.happy','p.sad','p.anger','p.fear','p.disgust'])\n",
    "display(y)"
   ]
  },
  {
   "cell_type": "code",
   "execution_count": null,
   "metadata": {
    "collapsed": true
   },
   "outputs": [],
   "source": []
  }
 ],
 "metadata": {
  "kernelspec": {
   "display_name": "Python 3",
   "language": "python",
   "name": "python3"
  },
  "language_info": {
   "codemirror_mode": {
    "name": "ipython",
    "version": 3
   },
   "file_extension": ".py",
   "mimetype": "text/x-python",
   "name": "python",
   "nbconvert_exporter": "python",
   "pygments_lexer": "ipython3",
   "version": "3.6.3"
  },
  "widgets": {
   "state": {
    "b6f172b430b741a8830edff7b16c5a1d": {
     "views": [
      {
       "cell_index": 10
      }
     ]
    },
    "b808c927f1634585929793557b733b01": {
     "views": [
      {
       "cell_index": 10
      }
     ]
    }
   },
   "version": "1.2.0"
  }
 },
 "nbformat": 4,
 "nbformat_minor": 2
}
